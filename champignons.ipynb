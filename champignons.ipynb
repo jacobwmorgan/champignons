{
 "cells": [
  {
   "attachments": {},
   "cell_type": "markdown",
   "metadata": {},
   "source": [
    "# Classification of Mushrooms using Machine Learning\n"
   ]
  },
  {
   "cell_type": "code",
   "execution_count": null,
   "metadata": {},
   "outputs": [],
   "source": [
    "! pip install kaggle"
   ]
  },
  {
   "attachments": {},
   "cell_type": "markdown",
   "metadata": {},
   "source": [
    "## Dataset handling\n",
    "\n",
    "Later on I will create my own dataset, but for now im just using [the one I found on kaggle](https://www.kaggle.com/datasets/maysee/mushrooms-classification-common-genuss-images?resource=download) \n",
    "\n",
    "[How to create a dataset](https://github.com/Kaggle/kaggle-api#create-a-new-dataset) <br>\n",
    "[Update dataset](https://github.com/Kaggle/kaggle-api#create-a-new-dataset-version)\n",
    "\n",
    "\n",
    "```\n",
    "kaggle datasets download maysee/mushrooms-classification-common-genuss-images \n",
    "\n",
    "\n",
    "```"
   ]
  },
  {
   "cell_type": "code",
   "execution_count": null,
   "metadata": {},
   "outputs": [],
   "source": []
  }
 ],
 "metadata": {
  "kernelspec": {
   "display_name": "Python 3",
   "language": "python",
   "name": "python3"
  },
  "language_info": {
   "codemirror_mode": {
    "name": "ipython",
    "version": 3
   },
   "file_extension": ".py",
   "mimetype": "text/x-python",
   "name": "python",
   "nbconvert_exporter": "python",
   "pygments_lexer": "ipython3",
   "version": "3.10.6 (main, Nov 14 2022, 16:10:14) [GCC 11.3.0]"
  },
  "orig_nbformat": 4,
  "vscode": {
   "interpreter": {
    "hash": "e7370f93d1d0cde622a1f8e1c04877d8463912d04d973331ad4851f04de6915a"
   }
  }
 },
 "nbformat": 4,
 "nbformat_minor": 2
}
