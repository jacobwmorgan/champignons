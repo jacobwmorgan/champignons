{
 "cells": [
  {
   "attachments": {},
   "cell_type": "markdown",
   "metadata": {},
   "source": [
    "# Classification of Mushrooms using Machine Learning | Machine learning "
   ]
  },
  {
   "cell_type": "code",
   "execution_count": 1,
   "metadata": {},
   "outputs": [],
   "source": [
    "%load_ext tensorboard"
   ]
  },
  {
   "cell_type": "code",
   "execution_count": 2,
   "metadata": {},
   "outputs": [],
   "source": [
    "import tensorflow as tf\n",
    "from tensorflow.keras.datasets import cifar10\n",
    "from tensorflow.keras.preprocessing.image import ImageDataGenerator\n",
    "from tensorflow.keras.models import Sequential\n",
    "from tensorflow.keras.layers import Dense, Dropout, Activation,Flatten, Conv2D, MaxPooling2D\n",
    "from tensorflow.keras.callbacks import TensorBoard\n",
    "import numpy as np\n",
    "import pickle\n",
    "import datetime"
   ]
  },
  {
   "attachments": {},
   "cell_type": "markdown",
   "metadata": {},
   "source": [
    "### Running on GPUs"
   ]
  },
  {
   "cell_type": "code",
   "execution_count": 3,
   "metadata": {},
   "outputs": [
    {
     "name": "stdout",
     "output_type": "stream",
     "text": [
      "[name: \"/device:CPU:0\"\n",
      "device_type: \"CPU\"\n",
      "memory_limit: 268435456\n",
      "locality {\n",
      "}\n",
      "incarnation: 11529907392229525487\n",
      "xla_global_id: -1\n",
      ", name: \"/device:GPU:0\"\n",
      "device_type: \"GPU\"\n",
      "memory_limit: 6957301760\n",
      "locality {\n",
      "  bus_id: 1\n",
      "  links {\n",
      "  }\n",
      "}\n",
      "incarnation: 14318422292747744572\n",
      "physical_device_desc: \"device: 0, name: NVIDIA GeForce GTX 1070, pci bus id: 0000:26:00.0, compute capability: 6.1\"\n",
      "xla_global_id: 416903419\n",
      "]\n",
      "Default GPU Device: /device:GPU:0\n",
      "1 Physical GPUs, 1 Logical GPU\n"
     ]
    }
   ],
   "source": [
    "\n",
    "\n",
    "from tensorflow.python.client import device_lib\n",
    "print(device_lib.list_local_devices())\n",
    "\n",
    "if tf.test.gpu_device_name():\n",
    "    print('Default GPU Device: {}'.format(tf.test.gpu_device_name()))\n",
    "else:\n",
    "    print(\"Please install GPU version of TF\")\n",
    "    \n",
    "gpus = tf.config.list_physical_devices('GPU')\n",
    "if gpus:\n",
    "  # Restrict TensorFlow to only use the first GPU\n",
    "  try:\n",
    "    tf.config.set_visible_devices(gpus[0], 'GPU')\n",
    "    logical_gpus = tf.config.list_logical_devices('GPU')\n",
    "    print(len(gpus), \"Physical GPUs,\", len(logical_gpus), \"Logical GPU\")\n",
    "  except RuntimeError as e:\n",
    "    # Visible devices must be set before GPUs have been initialized\n",
    "    print(e)\n",
    "\n"
   ]
  },
  {
   "cell_type": "code",
   "execution_count": 4,
   "metadata": {},
   "outputs": [
    {
     "name": "stdout",
     "output_type": "stream",
     "text": [
      "Mushrooms-cnn-256x128x64x9-20230403-233037\n"
     ]
    }
   ],
   "source": [
    "X  = pickle.load(open(\"./X.pickle\",\"rb\"))\n",
    "y  = pickle.load(open(\"./y.pickle\",\"rb\"))\n",
    "y = np.array(y)\n",
    "X = X/255.0\n",
    "conv_size = 16\n",
    "number_of_classes =len(set(y))\n",
    "#print(number_of_classes)\n",
    "#print(X,y)\n",
    "NAME = f\"Mushrooms-cnn-256x128x64x{number_of_classes}-{datetime.datetime.now().strftime('%Y%m%d-%H%M%S')}\"\n",
    "print(NAME)\n",
    "tensorboard = TensorBoard(log_dir = f\"logs/{NAME}\")\n"
   ]
  },
  {
   "attachments": {},
   "cell_type": "markdown",
   "metadata": {},
   "source": [
    "### Model"
   ]
  },
  {
   "cell_type": "code",
   "execution_count": 5,
   "metadata": {},
   "outputs": [
    {
     "name": "stdout",
     "output_type": "stream",
     "text": [
      "Note: you may need to restart the kernel to use updated packages.\n"
     ]
    }
   ],
   "source": [
    "%pip install -U scikit-learn -q"
   ]
  },
  {
   "cell_type": "code",
   "execution_count": 6,
   "metadata": {},
   "outputs": [
    {
     "name": "stdout",
     "output_type": "stream",
     "text": [
      "Model: \"sequential\"\n",
      "_________________________________________________________________\n",
      " Layer (type)                Output Shape              Param #   \n",
      "=================================================================\n",
      " conv2d (Conv2D)             (None, 198, 198, 256)     2560      \n",
      "                                                                 \n",
      " max_pooling2d (MaxPooling2D  (None, 99, 99, 256)      0         \n",
      " )                                                               \n",
      "                                                                 \n",
      " flatten (Flatten)           (None, 2509056)           0         \n",
      "                                                                 \n",
      " dense (Dense)               (None, 128)               321159296 \n",
      "                                                                 \n",
      " dense_1 (Dense)             (None, 64)                8256      \n",
      "                                                                 \n",
      " dense_2 (Dense)             (None, 32)                2080      \n",
      "                                                                 \n",
      " dense_3 (Dense)             (None, 9)                 297       \n",
      "                                                                 \n",
      "=================================================================\n",
      "Total params: 321,172,489\n",
      "Trainable params: 321,172,489\n",
      "Non-trainable params: 0\n",
      "_________________________________________________________________\n"
     ]
    }
   ],
   "source": [
    "from tensorflow.keras.utils import to_categorical\n",
    "from sklearn.model_selection import train_test_split\n",
    "\n",
    "\n",
    "#Converty true labels y to one-hot econded vectors\n",
    "y = to_categorical(y,num_classes = number_of_classes)\n",
    "X = X.astype('float32')\n",
    "\n",
    "X_train, X_test, y_train, y_test = train_test_split(X, y, test_size=0.33)\n",
    "\n",
    "model = Sequential(\n",
    "    [\n",
    "        Conv2D(256,kernel_size = (3,3),activation = 'relu', input_shape=(X.shape[1],X.shape[2],X.shape[3])),\n",
    "        MaxPooling2D(pool_size =(2,2)),\n",
    "        Flatten(),\n",
    "        Dense(128,activation = 'relu'),\n",
    "        Dense(64,activation = 'relu'),\n",
    "        Dense(32,activation = 'relu'),\n",
    "        #Dense(16,activation = 'relu'),\n",
    "\n",
    "        Dense(number_of_classes,activation='softmax')\n",
    "    ]\n",
    ")\n",
    "\n",
    "model.compile(optimizer='adam', loss='categorical_crossentropy', metrics=['accuracy'])\n",
    "model.summary()"
   ]
  },
  {
   "cell_type": "code",
   "execution_count": 7,
   "metadata": {},
   "outputs": [
    {
     "name": "stdout",
     "output_type": "stream",
     "text": [
      "Epoch 1/10\n",
      "1799/1799 [==============================] - 198s 109ms/step - loss: 2.1476 - accuracy: 0.2518 - val_loss: 2.1189 - val_accuracy: 0.1544\n",
      "Epoch 2/10\n",
      "1799/1799 [==============================] - 188s 104ms/step - loss: 1.6509 - accuracy: 0.4180 - val_loss: 2.0653 - val_accuracy: 0.2867\n",
      "Epoch 3/10\n",
      "1799/1799 [==============================] - 183s 102ms/step - loss: 0.5290 - accuracy: 0.8266 - val_loss: 3.8059 - val_accuracy: 0.2889\n",
      "Epoch 4/10\n",
      "1799/1799 [==============================] - 190s 106ms/step - loss: 0.1438 - accuracy: 0.9600 - val_loss: 4.4796 - val_accuracy: 0.2344\n",
      "Epoch 5/10\n",
      "1799/1799 [==============================] - 194s 108ms/step - loss: 0.1116 - accuracy: 0.9789 - val_loss: 4.5067 - val_accuracy: 0.2344\n",
      "Epoch 6/10\n",
      "1799/1799 [==============================] - 188s 105ms/step - loss: 0.0758 - accuracy: 0.9872 - val_loss: 4.2965 - val_accuracy: 0.2300\n",
      "Epoch 7/10\n",
      "1799/1799 [==============================] - 188s 104ms/step - loss: 0.0410 - accuracy: 0.9939 - val_loss: 6.0434 - val_accuracy: 0.2422\n",
      "Epoch 8/10\n",
      "1799/1799 [==============================] - 187s 104ms/step - loss: 0.0296 - accuracy: 0.9939 - val_loss: 5.5366 - val_accuracy: 0.2467\n",
      "Epoch 9/10\n",
      "1799/1799 [==============================] - 186s 103ms/step - loss: 0.0411 - accuracy: 0.9936 - val_loss: 5.8553 - val_accuracy: 0.2667\n",
      "Epoch 10/10\n",
      "1799/1799 [==============================] - 187s 104ms/step - loss: 0.0276 - accuracy: 0.9939 - val_loss: 10.8008 - val_accuracy: 0.2000\n"
     ]
    },
    {
     "data": {
      "text/plain": [
       "<keras.callbacks.History at 0x122cd3772e0>"
      ]
     },
     "execution_count": 7,
     "metadata": {},
     "output_type": "execute_result"
    }
   ],
   "source": [
    "#model.fit(X, y, epochs=5, validation_split=0.1,callbacks=[tensorboard],use_multiprocessing=True)\n",
    "model.fit(X_train,y_train,epochs=10,batch_size=2,validation_split=0.2,callbacks=[tensorboard],use_multiprocessing=True)"
   ]
  },
  {
   "cell_type": "code",
   "execution_count": 8,
   "metadata": {},
   "outputs": [
    {
     "name": "stdout",
     "output_type": "stream",
     "text": [
      "70/70 [==============================] - 3s 37ms/step - loss: 10.5095 - accuracy: 0.2076\n"
     ]
    },
    {
     "data": {
      "text/plain": [
       "[10.509452819824219, 0.20758122205734253]"
      ]
     },
     "execution_count": 8,
     "metadata": {},
     "output_type": "execute_result"
    }
   ],
   "source": [
    "model.evaluate(X_test,y_test, verbose = 1)"
   ]
  }
 ],
 "metadata": {
  "kernelspec": {
   "display_name": "tf2.10",
   "language": "python",
   "name": "python3"
  },
  "language_info": {
   "codemirror_mode": {
    "name": "ipython",
    "version": 3
   },
   "file_extension": ".py",
   "mimetype": "text/x-python",
   "name": "python",
   "nbconvert_exporter": "python",
   "pygments_lexer": "ipython3",
   "version": "3.10.0"
  },
  "orig_nbformat": 4
 },
 "nbformat": 4,
 "nbformat_minor": 2
}
